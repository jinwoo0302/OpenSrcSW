{
 "cells": [
  {
   "cell_type": "markdown",
   "id": "e2b989de",
   "metadata": {},
   "source": [
    "한 셀 실행: shift+enter\n",
    "아래에 셀 삽입: alt+enter\n",
    "한 셀 삭제: ctrl+m x\n",
    "더 많은 단축키 보기: ctrl+m h\n",
    "\n",
    "\n",
    "\n",
    "1번. 456은 몇 시간 몇 분?"
   ]
  },
  {
   "cell_type": "code",
   "execution_count": 20,
   "id": "e7d99258",
   "metadata": {},
   "outputs": [
    {
     "data": {
      "text/plain": [
       "(7, 36)"
      ]
     },
     "execution_count": 20,
     "metadata": {},
     "output_type": "execute_result"
    }
   ],
   "source": [
    "a=456/60\n",
    "b=456%60\n",
    "int(a), b"
   ]
  },
  {
   "cell_type": "markdown",
   "id": "c4b58d12",
   "metadata": {},
   "source": [
    "2번. 딕셔너리를 이용해 이름순의 첫번째 학생의 학점 출력"
   ]
  },
  {
   "cell_type": "code",
   "execution_count": 30,
   "id": "f1d56b9f",
   "metadata": {},
   "outputs": [
    {
     "name": "stdout",
     "output_type": "stream",
     "text": [
      "['김철수', '이영희', '임꺽정', '홍길동']\n"
     ]
    },
    {
     "data": {
      "text/plain": [
       "2.8"
      ]
     },
     "execution_count": 30,
     "metadata": {},
     "output_type": "execute_result"
    }
   ],
   "source": [
    "score={\"홍길동\":3.4,\"임꺽정\":4.0,\"김철수\":2.8,\"이영희\":3.9}\n",
    "name=score.keys()\n",
    "namelist=list(name)\n",
    "namelist.sort()\n",
    "print(namelist)\n",
    "s.get(namelist[0])\n"
   ]
  },
  {
   "cell_type": "code",
   "execution_count": null,
   "id": "cd82bf5d",
   "metadata": {},
   "outputs": [],
   "source": []
  }
 ],
 "metadata": {
  "kernelspec": {
   "display_name": "Python 3 (ipykernel)",
   "language": "python",
   "name": "python3"
  },
  "language_info": {
   "codemirror_mode": {
    "name": "ipython",
    "version": 3
   },
   "file_extension": ".py",
   "mimetype": "text/x-python",
   "name": "python",
   "nbconvert_exporter": "python",
   "pygments_lexer": "ipython3",
   "version": "3.10.4"
  }
 },
 "nbformat": 4,
 "nbformat_minor": 5
}
