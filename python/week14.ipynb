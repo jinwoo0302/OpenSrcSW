{
 "cells": [
  {
   "cell_type": "code",
   "execution_count": 34,
   "id": "36595d4e",
   "metadata": {},
   "outputs": [
    {
     "name": "stdout",
     "output_type": "stream",
     "text": [
      "        unit price  number  total price\n",
      "store1        1000      25        25000\n",
      "store2         280     120        33600\n",
      "store3         900      30        27000 \n",
      "\n",
      "        unit price  number  total price\n",
      "store2         280     120        33600 \n",
      "\n"
     ]
    }
   ],
   "source": [
    "import pandas as pd\n",
    "import numpy as np\n",
    "\n",
    "data = np.array([(1000, 25), (280, 120), (900, 30)])\n",
    "table=pd.DataFrame(data, index=['store1', 'store2', 'store3'], columns=['unit price', 'number'])\n",
    "table['total price']=table['unit price']*table['number']\n",
    "print(table, '\\n')\n",
    "maxindex=np.argmax(table['total price'])\n",
    "print(table.iloc[[maxindex]],'\\n')\n",
    "\n"
   ]
  },
  {
   "cell_type": "code",
   "execution_count": null,
   "id": "5564ec78",
   "metadata": {},
   "outputs": [],
   "source": []
  }
 ],
 "metadata": {
  "kernelspec": {
   "display_name": "Python 3 (ipykernel)",
   "language": "python",
   "name": "python3"
  },
  "language_info": {
   "codemirror_mode": {
    "name": "ipython",
    "version": 3
   },
   "file_extension": ".py",
   "mimetype": "text/x-python",
   "name": "python",
   "nbconvert_exporter": "python",
   "pygments_lexer": "ipython3",
   "version": "3.9.12"
  }
 },
 "nbformat": 4,
 "nbformat_minor": 5
}
