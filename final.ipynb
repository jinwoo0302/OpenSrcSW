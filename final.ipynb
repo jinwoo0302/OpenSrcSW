{
 "cells": [
  {
   "cell_type": "code",
   "execution_count": 23,
   "id": "6cea025f",
   "metadata": {},
   "outputs": [
    {
     "name": "stdout",
     "output_type": "stream",
     "text": [
      "백신이 가장 많이 접종된 날\n",
      "2021-02-22\n",
      "백신이 가장 적게 접종된 날\n",
      "2021-12-22\n"
     ]
    }
   ],
   "source": [
    "# 한 셀 실행: shift+enter\n",
    "#셀 삽입: alt+enter\n",
    "#셀 삭제: ctrl+m+x\n",
    "#기말고사 준비\n",
    "\n",
    "\n",
    "#가장 많이 접종된 날과 가장 적게 접종된 날\n",
    "import csv \n",
    "f=open('country_vaccinations.csv', 'r' ,encoding='utf-8')\n",
    "data=csv.reader(f)\n",
    "next(data)\n",
    "list_temp=[]\n",
    "\n",
    "for country, date, daily_vaccinations, vaccines in data:\n",
    "    list_temp.append( (date, daily_vaccinations) )\n",
    "list_temp.sort(key = lambda x: x[1])\n",
    "low_date=list_temp[0][0]\n",
    "high_date=list_temp[-1][0]\n",
    "\n",
    "print(\"백신이 가장 많이 접종된 날\\n\"+ low_date)\n",
    "print(\"백신이 가장 적게 접종된 날\\n\"+ high_date)\n",
    "\n",
    "\n",
    "\n",
    "#접종 국가수가 많은 백신부터 내림차순 정렬하여 데이터프레임을 구성하여 출력\n",
    "list_name_dict={}\n",
    "\n",
    "for country, date, daily_vaccinations, vaccines in data:\n",
    "    if country not in list_name_dict: #키가 없으면\n",
    "        list_name_dict[line_name]=[] #키값을 리스트로 생성\n",
    "    \n",
    "for vaccine_name in list_name_dict:\n",
    "    list_name_dict[line_name].sort(key=lambda x:x[1])\n",
    "    print(line_name)\n",
    "    print(\"이용객이 가장 많은 역 순위\")\n",
    "    for i in range(3):\n",
    "        name= list_name_dict[line_name][-i-1][0]\n",
    "        passenger= list_name_dict[line_name][-i-1][1]\n",
    "        print(i+1,'.',name, passenger)\n",
    "    print(\"\\n이용객이 가장 적은 역 순위\")\n",
    "    for i in range(3):\n",
    "        name= list_name_dict[line_name][i][0]\n",
    "        passenger= list_name_dict[line_name][i][1]\n",
    "        print(i+1,'.',name, passenger)\n",
    "    print('\\n')\n"
   ]
  },
  {
   "cell_type": "code",
   "execution_count": null,
   "id": "ba91376b",
   "metadata": {},
   "outputs": [],
   "source": []
  }
 ],
 "metadata": {
  "kernelspec": {
   "display_name": "Python 3 (ipykernel)",
   "language": "python",
   "name": "python3"
  },
  "language_info": {
   "codemirror_mode": {
    "name": "ipython",
    "version": 3
   },
   "file_extension": ".py",
   "mimetype": "text/x-python",
   "name": "python",
   "nbconvert_exporter": "python",
   "pygments_lexer": "ipython3",
   "version": "3.9.12"
  }
 },
 "nbformat": 4,
 "nbformat_minor": 5
}
